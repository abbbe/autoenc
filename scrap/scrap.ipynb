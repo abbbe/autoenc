{
 "cells": [
  {
   "cell_type": "code",
   "execution_count": null,
   "id": "given-means",
   "metadata": {},
   "outputs": [],
   "source": [
    "import PIL.Image\n",
    "from io import BytesIO \n",
    "import IPython.display\n",
    "import numpy as np\n",
    "\n",
    "def img2display(img_array):\n",
    "    \"\"\"\n",
    "    This function takes an robot image in a form of (D,D,C=1) matrix\n",
    "    and returns a self-contained iPython.display.Image object\n",
    "    suitable for output in a notebook\n",
    "    \"\"\"\n",
    "    img_array = np.uint8(img_array * 255.)[...,0]\n",
    "    \n",
    "    f = BytesIO ()\n",
    "    PIL.Image.fromarray(img_array).save(f, 'png')\n",
    "    \n",
    "    return IPython.display.Image(data=f.getvalue())\n",
    "\n",
    "IPython.display.display(*list(map(img2display, env.get_demo_images())))\n",
    "IPython.display.display(*list(map(img2display, env.get_demo_images())))"
   ]
  }
 ],
 "metadata": {
  "kernelspec": {
   "display_name": "Python 3",
   "language": "python",
   "name": "python3"
  },
  "language_info": {
   "codemirror_mode": {
    "name": "ipython",
    "version": 3
   },
   "file_extension": ".py",
   "mimetype": "text/x-python",
   "name": "python",
   "nbconvert_exporter": "python",
   "pygments_lexer": "ipython3",
   "version": "3.7.9"
  }
 },
 "nbformat": 4,
 "nbformat_minor": 5
}
