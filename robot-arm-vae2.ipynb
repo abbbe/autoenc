{
  "nbformat": 4,
  "nbformat_minor": 0,
  "metadata": {
    "colab": {
      "name": "mk_cal_images.ipynb",
      "provenance": []
    },
    "kernelspec": {
      "display_name": "Python 3",
      "language": "python",
      "name": "python3"
    },
    "language_info": {
      "codemirror_mode": {
        "name": "ipython",
        "version": 3
      },
      "file_extension": ".py",
      "mimetype": "text/x-python",
      "name": "python",
      "nbconvert_exporter": "python",
      "pygments_lexer": "ipython3",
      "version": "3.7.9"
    },
    "accelerator": "GPU",
    "widgets": {
      "application/vnd.jupyter.widget-state+json": {
        "9d676fb8355146faab543aafef018218": {
          "model_module": "@jupyter-widgets/output",
          "model_name": "OutputModel",
          "state": {
            "_view_name": "OutputView",
            "msg_id": "",
            "_dom_classes": [],
            "_model_name": "OutputModel",
            "outputs": [
              {
                "output_type": "display_data",
                "metadata": {
                  "tags": [],
                  "needs_background": "light"
                },
                "image/png": "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\n",
                "text/plain": "<Figure size 432x288 with 1 Axes>"
              }
            ],
            "_view_module": "@jupyter-widgets/output",
            "_model_module_version": "1.0.0",
            "_view_count": null,
            "_view_module_version": "1.0.0",
            "layout": "IPY_MODEL_6498af79ab1f45ba939eba6a04035327",
            "_model_module": "@jupyter-widgets/output"
          }
        },
        "6498af79ab1f45ba939eba6a04035327": {
          "model_module": "@jupyter-widgets/base",
          "model_name": "LayoutModel",
          "state": {
            "_view_name": "LayoutView",
            "grid_template_rows": null,
            "right": null,
            "justify_content": null,
            "_view_module": "@jupyter-widgets/base",
            "overflow": null,
            "_model_module_version": "1.2.0",
            "_view_count": null,
            "flex_flow": null,
            "width": null,
            "min_width": null,
            "border": null,
            "align_items": null,
            "bottom": null,
            "_model_module": "@jupyter-widgets/base",
            "top": null,
            "grid_column": null,
            "overflow_y": null,
            "overflow_x": null,
            "grid_auto_flow": null,
            "grid_area": null,
            "grid_template_columns": null,
            "flex": null,
            "_model_name": "LayoutModel",
            "justify_items": null,
            "grid_row": null,
            "max_height": null,
            "align_content": null,
            "visibility": null,
            "align_self": null,
            "height": null,
            "min_height": null,
            "padding": null,
            "grid_auto_rows": null,
            "grid_gap": null,
            "max_width": null,
            "order": null,
            "_view_module_version": "1.2.0",
            "grid_template_areas": null,
            "object_position": null,
            "object_fit": null,
            "grid_auto_columns": null,
            "margin": null,
            "display": null,
            "left": null
          }
        },
        "644b2ea5f8ce4b6c885178be00143ad2": {
          "model_module": "@jupyter-widgets/controls",
          "model_name": "FloatSliderModel",
          "state": {
            "_view_name": "FloatSliderView",
            "style": "IPY_MODEL_b32e95f3deb240b48c01e299489d3838",
            "_dom_classes": [],
            "description": "",
            "step": 0.01,
            "_model_name": "FloatSliderModel",
            "orientation": "horizontal",
            "max": 5,
            "_view_module": "@jupyter-widgets/controls",
            "_model_module_version": "1.5.0",
            "value": 0,
            "_view_count": null,
            "disabled": false,
            "_view_module_version": "1.5.0",
            "min": -5,
            "continuous_update": true,
            "readout_format": ".2f",
            "description_tooltip": null,
            "readout": true,
            "_model_module": "@jupyter-widgets/controls",
            "layout": "IPY_MODEL_260bbe7cb6bc44268ab1564e65b0e8b6"
          }
        },
        "b32e95f3deb240b48c01e299489d3838": {
          "model_module": "@jupyter-widgets/controls",
          "model_name": "SliderStyleModel",
          "state": {
            "_view_name": "StyleView",
            "handle_color": null,
            "_model_name": "SliderStyleModel",
            "description_width": "",
            "_view_module": "@jupyter-widgets/base",
            "_model_module_version": "1.5.0",
            "_view_count": null,
            "_view_module_version": "1.2.0",
            "_model_module": "@jupyter-widgets/controls"
          }
        },
        "260bbe7cb6bc44268ab1564e65b0e8b6": {
          "model_module": "@jupyter-widgets/base",
          "model_name": "LayoutModel",
          "state": {
            "_view_name": "LayoutView",
            "grid_template_rows": null,
            "right": null,
            "justify_content": null,
            "_view_module": "@jupyter-widgets/base",
            "overflow": null,
            "_model_module_version": "1.2.0",
            "_view_count": null,
            "flex_flow": null,
            "width": null,
            "min_width": null,
            "border": null,
            "align_items": null,
            "bottom": null,
            "_model_module": "@jupyter-widgets/base",
            "top": null,
            "grid_column": null,
            "overflow_y": null,
            "overflow_x": null,
            "grid_auto_flow": null,
            "grid_area": null,
            "grid_template_columns": null,
            "flex": null,
            "_model_name": "LayoutModel",
            "justify_items": null,
            "grid_row": null,
            "max_height": null,
            "align_content": null,
            "visibility": null,
            "align_self": null,
            "height": null,
            "min_height": null,
            "padding": null,
            "grid_auto_rows": null,
            "grid_gap": null,
            "max_width": null,
            "order": null,
            "_view_module_version": "1.2.0",
            "grid_template_areas": null,
            "object_position": null,
            "object_fit": null,
            "grid_auto_columns": null,
            "margin": null,
            "display": null,
            "left": null
          }
        },
        "1cca4ff6680046d7b4e372140d8a689b": {
          "model_module": "@jupyter-widgets/controls",
          "model_name": "FloatSliderModel",
          "state": {
            "_view_name": "FloatSliderView",
            "style": "IPY_MODEL_7d1e372e6dd746e78ac2d878c45b4dbb",
            "_dom_classes": [],
            "description": "",
            "step": 0.01,
            "_model_name": "FloatSliderModel",
            "orientation": "horizontal",
            "max": 5,
            "_view_module": "@jupyter-widgets/controls",
            "_model_module_version": "1.5.0",
            "value": 3.52,
            "_view_count": null,
            "disabled": false,
            "_view_module_version": "1.5.0",
            "min": -5,
            "continuous_update": true,
            "readout_format": ".2f",
            "description_tooltip": null,
            "readout": true,
            "_model_module": "@jupyter-widgets/controls",
            "layout": "IPY_MODEL_754a50333e654c4a992d71ff0dd79eac"
          }
        },
        "7d1e372e6dd746e78ac2d878c45b4dbb": {
          "model_module": "@jupyter-widgets/controls",
          "model_name": "SliderStyleModel",
          "state": {
            "_view_name": "StyleView",
            "handle_color": null,
            "_model_name": "SliderStyleModel",
            "description_width": "",
            "_view_module": "@jupyter-widgets/base",
            "_model_module_version": "1.5.0",
            "_view_count": null,
            "_view_module_version": "1.2.0",
            "_model_module": "@jupyter-widgets/controls"
          }
        },
        "754a50333e654c4a992d71ff0dd79eac": {
          "model_module": "@jupyter-widgets/base",
          "model_name": "LayoutModel",
          "state": {
            "_view_name": "LayoutView",
            "grid_template_rows": null,
            "right": null,
            "justify_content": null,
            "_view_module": "@jupyter-widgets/base",
            "overflow": null,
            "_model_module_version": "1.2.0",
            "_view_count": null,
            "flex_flow": null,
            "width": null,
            "min_width": null,
            "border": null,
            "align_items": null,
            "bottom": null,
            "_model_module": "@jupyter-widgets/base",
            "top": null,
            "grid_column": null,
            "overflow_y": null,
            "overflow_x": null,
            "grid_auto_flow": null,
            "grid_area": null,
            "grid_template_columns": null,
            "flex": null,
            "_model_name": "LayoutModel",
            "justify_items": null,
            "grid_row": null,
            "max_height": null,
            "align_content": null,
            "visibility": null,
            "align_self": null,
            "height": null,
            "min_height": null,
            "padding": null,
            "grid_auto_rows": null,
            "grid_gap": null,
            "max_width": null,
            "order": null,
            "_view_module_version": "1.2.0",
            "grid_template_areas": null,
            "object_position": null,
            "object_fit": null,
            "grid_auto_columns": null,
            "margin": null,
            "display": null,
            "left": null
          }
        }
      }
    }
  },
  "cells": [
    {
      "cell_type": "markdown",
      "metadata": {
        "id": "1GeZE0jf4UYi"
      },
      "source": [
        "## Install dependencies << only once"
      ]
    },
    {
      "cell_type": "code",
      "metadata": {
        "id": "no-MKhiU4UYm",
        "outputId": "39b01a68-cfce-4ac0-ad48-162a36a37bc1",
        "colab": {
          "base_uri": "https://localhost:8080/"
        }
      },
      "source": [
        "!apt-get -qq -y install xvfb freeglut3-dev ffmpeg> /dev/null\n",
        "!pip -q install gym\n",
        "!pip -q install pyglet\n",
        "!pip -q install pyopengl\n",
        "!pip -q install pyvirtualdisplay\n",
        "!pip -q install pygame\n",
        " \n",
        "!git clone https://github.com/ekorudiawan/gym-robot-arm.git\n",
        "!cd gym-robot-arm && pip install -e ."
      ],
      "execution_count": 2,
      "outputs": [
        {
          "output_type": "stream",
          "text": [
            "\u001b[K     |████████████████████████████████| 11.8MB 22.4MB/s \n",
            "\u001b[?25hCloning into 'gym-robot-arm'...\n",
            "remote: Enumerating objects: 37, done.\u001b[K\n",
            "remote: Counting objects: 100% (37/37), done.\u001b[K\n",
            "remote: Compressing objects: 100% (28/28), done.\u001b[K\n",
            "remote: Total 37 (delta 10), reused 34 (delta 7), pack-reused 0\u001b[K\n",
            "Unpacking objects: 100% (37/37), done.\n",
            "Obtaining file:///content/gym-robot-arm\n",
            "Requirement already satisfied: gym in /usr/local/lib/python3.7/dist-packages (from gym-robot-arm==0.0.1) (0.17.3)\n",
            "Requirement already satisfied: pygame in /usr/local/lib/python3.7/dist-packages (from gym-robot-arm==0.0.1) (2.0.1)\n",
            "Requirement already satisfied: scipy in /usr/local/lib/python3.7/dist-packages (from gym-robot-arm==0.0.1) (1.4.1)\n",
            "Requirement already satisfied: numpy>=1.10.4 in /usr/local/lib/python3.7/dist-packages (from gym->gym-robot-arm==0.0.1) (1.19.5)\n",
            "Requirement already satisfied: cloudpickle<1.7.0,>=1.2.0 in /usr/local/lib/python3.7/dist-packages (from gym->gym-robot-arm==0.0.1) (1.3.0)\n",
            "Requirement already satisfied: pyglet<=1.5.0,>=1.4.0 in /usr/local/lib/python3.7/dist-packages (from gym->gym-robot-arm==0.0.1) (1.5.0)\n",
            "Requirement already satisfied: future in /usr/local/lib/python3.7/dist-packages (from pyglet<=1.5.0,>=1.4.0->gym->gym-robot-arm==0.0.1) (0.16.0)\n",
            "Installing collected packages: gym-robot-arm\n",
            "  Running setup.py develop for gym-robot-arm\n",
            "Successfully installed gym-robot-arm\n"
          ],
          "name": "stdout"
        }
      ]
    },
    {
      "cell_type": "markdown",
      "metadata": {
        "id": "4JiXGRwP4UYm"
      },
      "source": [
        "## Load required modules << after each kernel restart"
      ]
    },
    {
      "cell_type": "code",
      "metadata": {
        "id": "OoMQk_5c4UYm",
        "outputId": "0321a0bd-da49-49a5-dcb4-0284b6a4440d",
        "colab": {
          "base_uri": "https://localhost:8080/"
        }
      },
      "source": [
        "import numpy as np\n",
        "from matplotlib import pyplot as plt\n",
        "%matplotlib inline\n",
        "%load_ext autoreload\n",
        "%autoreload 2\n",
        "\n",
        "import gym \n",
        "import pygame\n",
        "import numpy as np\n",
        "import skimage.transform\n",
        "\n",
        "import tensorflow as tf\n",
        "import tensorflow.keras as keras\n",
        "from tensorflow.keras.layers import Dense, Flatten, Conv2D\n",
        "from tensorflow.keras import Model, layers\n",
        "%load_ext tensorboard"
      ],
      "execution_count": 1,
      "outputs": [
        {
          "output_type": "stream",
          "text": [
            "pygame 2.0.1 (SDL 2.0.14, Python 3.7.10)\n",
            "Hello from the pygame community. https://www.pygame.org/contribute.html\n"
          ],
          "name": "stdout"
        }
      ]
    },
    {
      "cell_type": "markdown",
      "metadata": {
        "id": "VQG2P5w_4UYn"
      },
      "source": [
        "## Gym << if you plan to interact with the robot"
      ]
    },
    {
      "cell_type": "code",
      "metadata": {
        "id": "uRaV5OoY4UYn"
      },
      "source": [
        "# instantiate robot arm\n",
        "env = gym.make('gym_robot_arm:robot-arm-v1')\n",
        "env.draw_target = lambda: None # sabotage target (red circle) drawing\n",
        "\n",
        "D = 64 # screen will be scaled to DxD\n",
        "\n",
        "def get_pygame_display_img_array():\n",
        "    img_surface = pygame.display.get_surface()\n",
        "    img_array = pygame.surfarray.array3d(img_surface)\n",
        "    return img_array\n",
        "\n",
        "def get_Y():\n",
        "    \"\"\"\n",
        "    Returns a screenshot of the current game screen as 2D numpy array.\n",
        "    Converted to grayscale, resized to DxD.\n",
        "    \"\"\"\n",
        "    img_array = get_pygame_display_img_array()\n",
        "    # convert to grayscale\n",
        "    img_array = np.average(img_array, axis=2)\n",
        "\n",
        "    # resize (preserves channels)\n",
        "    img_array = skimage.transform.resize(img_array, (D, D))\n",
        "\n",
        "    #from PIL import Image\n",
        "    #import matplotlib.pyplot as plt\n",
        "    #img = Image.fromarray(img_array)\n",
        "    #img.show()\n",
        "\n",
        "    return img_array / 255.\n",
        "\n",
        "def plot_Ys(ys):\n",
        "    \"\"\"\n",
        "    Plot given DxD greyscale images\n",
        "    \"\"\"\n",
        "    _fig, axs = plt.subplots(1, ys.shape[0])\n",
        "    for i in range(ys.shape[0]):\n",
        "        axs[i].imshow(ys[i])"
      ],
      "execution_count": 2,
      "outputs": []
    },
    {
      "cell_type": "markdown",
      "metadata": {
        "id": "sB4F8h344UYo"
      },
      "source": [
        "# TRAIN AND SAVE << or skip all the way down to LOAD AND USE\n",
        "## Generate train, test, and validation data"
      ]
    },
    {
      "cell_type": "code",
      "metadata": {
        "tags": [],
        "id": "emVRrEjz4UYo"
      },
      "source": [
        "def gen_data(N):\n",
        "    \"\"\"\n",
        "    Generate testdata: actions and robot views\n",
        "    \"\"\"\n",
        "    env.reset()\n",
        "\n",
        "    print(\"Generating %d snapshots of the robot\" % N)\n",
        "    for i in range(N):\n",
        "        action = env.action_space.sample()\n",
        "        obs, _reward, _done, _info = env.step(action)\n",
        "        env.render()\n",
        "\n",
        "        y = get_Y()\n",
        "\n",
        "        if i == 0:\n",
        "            A = np.zeros([N] + list(action.shape))\n",
        "            Y = np.zeros([N] + list(y.shape))\n",
        "\n",
        "        A[i] = action.flatten()\n",
        "        Y[i] = y\n",
        "\n",
        "    env.close()\n",
        "\n",
        "    Y = np.expand_dims(Y, axis=-1)\n",
        "    return A, Y"
      ],
      "execution_count": null,
      "outputs": []
    },
    {
      "cell_type": "code",
      "metadata": {
        "id": "Wvc6y3tg4UYo"
      },
      "source": [
        "# 1000 train, 100 test, 100 validate\n",
        "train_A, train_Y = gen_data(1000)\n",
        "test_A, test_Y = gen_data(100)\n",
        "val_A, val_Y = gen_data(100)"
      ],
      "execution_count": null,
      "outputs": []
    },
    {
      "cell_type": "code",
      "metadata": {
        "id": "V1p1Lr9w4UYo"
      },
      "source": [
        "print(\"train_A.shape=%s, train_Y.shape=%s\" % (str(train_A.shape), str(train_Y.shape)))\n",
        "plot_Ys(train_Y[:3,...])"
      ],
      "execution_count": null,
      "outputs": []
    },
    {
      "cell_type": "markdown",
      "metadata": {
        "id": "8dK5B_X64UYp"
      },
      "source": [
        "## Build the model"
      ]
    },
    {
      "cell_type": "code",
      "metadata": {
        "id": "Z-UOUGuL4UYp"
      },
      "source": [
        "#https://www.pyimagesearch.com/2020/02/17/autoencoders-with-keras-tensorflow-and-deep-learning/\n",
        "from tensorflow.keras.layers import BatchNormalization\n",
        "from tensorflow.keras.layers import Conv2D\n",
        "from tensorflow.keras.layers import Conv2DTranspose\n",
        "from tensorflow.keras.layers import LeakyReLU\n",
        "from tensorflow.keras.layers import Activation\n",
        "from tensorflow.keras.layers import Flatten\n",
        "from tensorflow.keras.layers import Dense\n",
        "from tensorflow.keras.layers import Reshape\n",
        "from tensorflow.keras.layers import Input\n",
        "from tensorflow.keras.models import Model\n",
        "from tensorflow.keras.optimizers import Adam\n",
        "from tensorflow.keras import backend as K\n",
        "import numpy as np"
      ],
      "execution_count": null,
      "outputs": []
    },
    {
      "cell_type": "code",
      "metadata": {
        "id": "xeMYiQ2d4UYp"
      },
      "source": [
        "def build_conv_autoencoder(width, height, depth, latentDim, filters=(256,16)):\n",
        "    \n",
        "    def build_encoder(inp):\n",
        "        x = inp\n",
        "        for f in filters:\n",
        "            # apply a CONV => RELU => BN operation\n",
        "            x = Conv2D(f, (3, 3), strides=2, padding=\"same\")(x)\n",
        "            x = LeakyReLU(alpha=0.2)(x)\n",
        "            x = BatchNormalization(axis=chanDim)(x)\n",
        "\n",
        "        # flatten the network and then construct our latent vector\n",
        "        volumeSize = K.int_shape(x)\n",
        "        x = Flatten()(x)\n",
        "        latent = Dense(latentDim)(x)\n",
        "\n",
        "        encoder = Model(inp, latent, name=\"encoder\")\n",
        "        return encoder, volumeSize\n",
        "    \n",
        "    def build_decoder(latentInputs, volumeSize):\n",
        "        x = Dense(np.prod(volumeSize[1:]))(latentInputs)\n",
        "        x = Reshape((volumeSize[1], volumeSize[2], volumeSize[3]))(x)\n",
        "        # loop over our number of filters again, but this time in reverse order\n",
        "        for f in filters[::-1]:\n",
        "            # apply a CONV_TRANSPOSE => RELU => BN operation\n",
        "            x = Conv2DTranspose(f, (3, 3), strides=2, padding=\"same\")(x)\n",
        "            x = LeakyReLU(alpha=0.2)(x)\n",
        "            x = BatchNormalization(axis=chanDim)(x)\n",
        "\n",
        "        # apply a single CONV_TRANSPOSE layer used to recover the original depth of the image\n",
        "        x = Conv2DTranspose(depth, (3, 3), padding=\"same\")(x)\n",
        "        outputs = Activation(\"sigmoid\")(x)\n",
        "        decoder = Model(latentInputs, outputs, name=\"decoder\")\n",
        "        return decoder\n",
        "\n",
        "    inputShape = (height, width, depth)\n",
        "    chanDim = -1\n",
        "   \n",
        "    inputs = Input(shape=inputShape)\n",
        "    encoder_model, volumeSize = build_encoder(inputs)\n",
        "\n",
        "    latentInputs = Input(shape=(latentDim,))\n",
        "    decoder_model = build_decoder(latentInputs, volumeSize)\n",
        "\n",
        "    autoencoder = Model(inputs, decoder_model(encoder_model(inputs)), name=\"autoencoder\")\n",
        "    autoencoder.compile(optimizer='adam', loss='mse', metrics=['accuracy'])\n",
        "    \n",
        "    return autoencoder, encoder_model, decoder_model"
      ],
      "execution_count": null,
      "outputs": []
    },
    {
      "cell_type": "code",
      "metadata": {
        "id": "px0qjlGS4UYp"
      },
      "source": [
        "#from numba import cuda\n",
        "#device = cuda.get_current_device()\n",
        "#device.reset()"
      ],
      "execution_count": null,
      "outputs": []
    },
    {
      "cell_type": "code",
      "metadata": {
        "id": "_cYa6YJ64UYq"
      },
      "source": [
        "autoencoder, encoder, decoder = build_conv_autoencoder(train_Y.shape[1], train_Y.shape[2], 1, 2)\n",
        "print(encoder.summary())\n",
        "print(decoder.summary())"
      ],
      "execution_count": null,
      "outputs": []
    },
    {
      "cell_type": "markdown",
      "metadata": {
        "id": "onKpqH5t4UYq"
      },
      "source": [
        "## Fit the model"
      ]
    },
    {
      "cell_type": "code",
      "metadata": {
        "tags": [],
        "id": "51As6z9r4UYq"
      },
      "source": [
        "#autoencoder.fit(train_Y, train_Y, batch_size=64, epochs=250, validation_data=(test_Y, test_Y), verbose=1)\n",
        "def train_model():\n",
        "    import os, datetime\n",
        "    logdir = os.path.join(\"logs\", datetime.datetime.now().strftime(\"%Y%m%d-%H%M%S\"))\n",
        "    tensorboard_callback = tf.keras.callbacks.TensorBoard(logdir) #, histogram_freq=1)\n",
        "    autoencoder.fit(train_Y, train_Y, batch_size=64, epochs=50, validation_data=(test_Y, test_Y), verbose=0,\n",
        "                    callbacks=[tensorboard_callback])"
      ],
      "execution_count": null,
      "outputs": []
    },
    {
      "cell_type": "code",
      "metadata": {
        "id": "Z2szR8OO4UYr"
      },
      "source": [
        "for _ in range(1):\n",
        "    train_model()"
      ],
      "execution_count": null,
      "outputs": []
    },
    {
      "cell_type": "markdown",
      "metadata": {
        "id": "v8XPwUna4UYr"
      },
      "source": [
        "## Evaluate"
      ]
    },
    {
      "cell_type": "code",
      "metadata": {
        "id": "KPkW0WJT4UYr"
      },
      "source": [
        "L = encoder.predict(train_Y)\n",
        "YY = decoder.predict(L)"
      ],
      "execution_count": null,
      "outputs": []
    },
    {
      "cell_type": "markdown",
      "metadata": {
        "id": "ou6StXws4UYr"
      },
      "source": [
        "### plot latent vars histogram (on training data)"
      ]
    },
    {
      "cell_type": "code",
      "metadata": {
        "id": "myNqMX5C4UYs",
        "outputId": "d5648ebf-838d-461b-c095-1c91781314fe"
      },
      "source": [
        "for i in range(L.shape[1]):\n",
        "    plt.hist(L[:, i])"
      ],
      "execution_count": null,
      "outputs": [
        {
          "output_type": "display_data",
          "data": {
            "image/png": "[encoded data removed]",
            "text/plain": [
              "<Figure size 432x288 with 1 Axes>"
            ]
          },
          "metadata": {
            "tags": [],
            "needs_background": "light"
          }
        }
      ]
    },
    {
      "cell_type": "markdown",
      "metadata": {
        "id": "w1yuWnCs4UYs"
      },
      "source": [
        "### show 3 pairs of real / regenerated images (from training data)"
      ]
    },
    {
      "cell_type": "code",
      "metadata": {
        "id": "zNoS4fkF4UYs",
        "outputId": "c11ba3ad-5e4b-4386-c0e0-873365b5dd42"
      },
      "source": [
        "# draw first 3 real robot views from the training set, then generated ones\n",
        "plot_Ys(train_Y[[0,1,2],...])"
      ],
      "execution_count": null,
      "outputs": [
        {
          "output_type": "display_data",
          "data": {
            "image/png": "[encoded data removed]",
            "text/plain": [
              "<Figure size 432x288 with 3 Axes>"
            ]
          },
          "metadata": {
            "tags": [],
            "needs_background": "light"
          }
        }
      ]
    },
    {
      "cell_type": "code",
      "metadata": {
        "id": "3MIcUyVB4UYs",
        "outputId": "ddeed515-7252-4dab-b2d4-0e22e2bd2c41"
      },
      "source": [
        "plot_Ys(YY[[0,1,2],...])"
      ],
      "execution_count": null,
      "outputs": [
        {
          "output_type": "display_data",
          "data": {
            "image/png": "[encoded data removed]",
            "text/plain": [
              "<Figure size 432x288 with 3 Axes>"
            ]
          },
          "metadata": {
            "tags": [],
            "needs_background": "light"
          }
        }
      ]
    },
    {
      "cell_type": "markdown",
      "metadata": {
        "id": "sVEdkOZP4UYt"
      },
      "source": [
        "## Validation"
      ]
    },
    {
      "cell_type": "code",
      "metadata": {
        "id": "9Klt07Df4UYt"
      },
      "source": [
        "val_L = encoder.predict(val_Y)\n",
        "val_YY = decoder.predict(val_L)"
      ],
      "execution_count": null,
      "outputs": []
    },
    {
      "cell_type": "code",
      "metadata": {
        "id": "_FaWEtVt4UYt"
      },
      "source": [
        "plot_Ys(val_Y[[0,1,2],...])"
      ],
      "execution_count": null,
      "outputs": []
    },
    {
      "cell_type": "code",
      "metadata": {
        "id": "NIdzOFhQ4UYt"
      },
      "source": [
        "plot_Ys(val_YY[[0,1,2],...])"
      ],
      "execution_count": null,
      "outputs": []
    },
    {
      "cell_type": "code",
      "metadata": {
        "id": "LiFzot5U4UYt"
      },
      "source": [
        "# plot the latent vars (vertical axis) vs joint[0] (horizontal)\n",
        "_fig, axs = plt.subplots(val_L.shape[1])\n",
        "for i in range(val_L.shape[1]):\n",
        "    axs[i].plot(val_A[:,0], val_L[:, i], '.')"
      ],
      "execution_count": null,
      "outputs": []
    },
    {
      "cell_type": "code",
      "metadata": {
        "id": "yczcdQ7c4UYt"
      },
      "source": [
        "# plot the latent vars (vertical axis) vs joint[1] (horizontal)\n",
        "_fig, axs = plt.subplots(val_L.shape[1])\n",
        "for i in range(val_L.shape[1]):\n",
        "    axs[i].plot(val_A[:,1], val_L[:, i], '.')"
      ],
      "execution_count": null,
      "outputs": []
    },
    {
      "cell_type": "markdown",
      "metadata": {
        "id": "xuSwlxw94UYt"
      },
      "source": [
        "## Save the data and the models"
      ]
    },
    {
      "cell_type": "code",
      "metadata": {
        "id": "TSEWoYw_4UYu"
      },
      "source": [
        "import pickle\n",
        "\n",
        "print(train_Y.shape)\n",
        "with open('robot-arm-vae2-dataset.pickle', 'wb') as handle:\n",
        "    pickle.dump([train_A, train_Y, test_A, test_Y, val_A, val_Y, val_L], handle, protocol=pickle.HIGHEST_PROTOCOL)"
      ],
      "execution_count": null,
      "outputs": []
    },
    {
      "cell_type": "code",
      "metadata": {
        "id": "5Bk-HBF_4UYu"
      },
      "source": [
        "autoencoder.save('robot-arm-vae2-autoencoder.h5')\n",
        "encoder.save('robot-arm-vae2-encoder.h5')\n",
        "decoder.save('robot-arm-vae2-decoder.h5')"
      ],
      "execution_count": null,
      "outputs": []
    },
    {
      "cell_type": "markdown",
      "metadata": {
        "id": "q28pHtfm4UYu"
      },
      "source": [
        "# LOAD AND USE"
      ]
    },
    {
      "cell_type": "markdown",
      "metadata": {
        "id": "uu-RV_6j5tGw"
      },
      "source": [
        "## Grab autoenc/ repo and chdir there << useful when opening notebook in **Colab**"
      ]
    },
    {
      "cell_type": "code",
      "metadata": {
        "id": "QHACal285YPP",
        "outputId": "4c095a97-9d11-4c00-b447-de7989790b3e",
        "colab": {
          "base_uri": "https://localhost:8080/"
        }
      },
      "source": [
        "!git clone https://github.com/abbbe/autoenc.git\r\n",
        "%cd autoenc"
      ],
      "execution_count": 5,
      "outputs": [
        {
          "output_type": "stream",
          "text": [
            "fatal: destination path 'autoenc' already exists and is not an empty directory.\n",
            "/content/autoenc\n"
          ],
          "name": "stdout"
        }
      ]
    },
    {
      "cell_type": "code",
      "metadata": {
        "id": "3gWlQYQJ5khJ",
        "outputId": "2d599901-a29e-49b4-b7cb-372434b43d5c",
        "colab": {
          "base_uri": "https://localhost:8080/"
        }
      },
      "source": [
        "%cd autoenc"
      ],
      "execution_count": 6,
      "outputs": [
        {
          "output_type": "stream",
          "text": [
            "[Errno 2] No such file or directory: 'autoenc'\n",
            "/content/autoenc\n"
          ],
          "name": "stdout"
        }
      ]
    },
    {
      "cell_type": "markdown",
      "metadata": {
        "id": "wdfAL69h4UYu"
      },
      "source": [
        "## Load data"
      ]
    },
    {
      "cell_type": "code",
      "metadata": {
        "id": "O95fESpy4UYu",
        "outputId": "954a56bb-de67-428b-c665-8b045b3f8686",
        "colab": {
          "base_uri": "https://localhost:8080/"
        }
      },
      "source": [
        "import pickle\n",
        "# Load data\n",
        "with open('robot-arm-vae2-dataset.pickle', 'rb') as handle:\n",
        "    [train_A, train_Y, test_A, test_Y, val_A, val_Y, val_L] = pickle.load(handle)\n",
        "print(train_Y.shape)"
      ],
      "execution_count": 7,
      "outputs": [
        {
          "output_type": "stream",
          "text": [
            "(1000, 64, 64, 1)\n"
          ],
          "name": "stdout"
        }
      ]
    },
    {
      "cell_type": "markdown",
      "metadata": {
        "id": "eMT-Is1F4UYu"
      },
      "source": [
        "## Load autoencoder models and weights from files"
      ]
    },
    {
      "cell_type": "code",
      "metadata": {
        "id": "kevcbgQC4UYu",
        "outputId": "d9b86182-180a-4564-a160-cdd0bba26dff",
        "colab": {
          "base_uri": "https://localhost:8080/"
        }
      },
      "source": [
        "from tensorflow import keras\n",
        "\n",
        "autoencoder = keras.models.load_model(\"robot-arm-vae2-autoencoder.h5\")\n",
        "encoder = keras.models.load_model(\"robot-arm-vae2-encoder.h5\")\n",
        "decoder = keras.models.load_model(\"robot-arm-vae2-decoder.h5\")"
      ],
      "execution_count": 9,
      "outputs": [
        {
          "output_type": "stream",
          "text": [
            "WARNING:tensorflow:No training configuration found in the save file, so the model was *not* compiled. Compile it manually.\n",
            "WARNING:tensorflow:No training configuration found in the save file, so the model was *not* compiled. Compile it manually.\n"
          ],
          "name": "stdout"
        }
      ]
    },
    {
      "cell_type": "markdown",
      "metadata": {
        "id": "HtECmozG4UYv"
      },
      "source": [
        "# Change latent variables and render live decoder output"
      ]
    },
    {
      "cell_type": "code",
      "metadata": {
        "id": "ouievsfT4UYv",
        "outputId": "f8d98efe-709f-4ab8-f82a-c6d89de43fc6",
        "colab": {
          "base_uri": "https://localhost:8080/",
          "height": 265
        }
      },
      "source": [
        "_=plt.hist(val_L)"
      ],
      "execution_count": 10,
      "outputs": [
        {
          "output_type": "display_data",
          "data": {
            "image/png": "[encoded data removed]",
            "text/plain": [
              "<Figure size 432x288 with 1 Axes>"
            ]
          },
          "metadata": {
            "tags": [],
            "needs_background": "light"
          }
        }
      ]
    },
    {
      "cell_type": "code",
      "metadata": {
        "id": "KjzeM5Vc4UYv",
        "outputId": "40ba3769-7b37-4854-de2a-22519cf92a72",
        "colab": {
          "base_uri": "https://localhost:8080/",
          "height": 330,
          "referenced_widgets": [
            "9d676fb8355146faab543aafef018218",
            "6498af79ab1f45ba939eba6a04035327",
            "644b2ea5f8ce4b6c885178be00143ad2",
            "b32e95f3deb240b48c01e299489d3838",
            "260bbe7cb6bc44268ab1564e65b0e8b6",
            "1cca4ff6680046d7b4e372140d8a689b",
            "7d1e372e6dd746e78ac2d878c45b4dbb",
            "754a50333e654c4a992d71ff0dd79eac"
          ]
        }
      },
      "source": [
        "import ipywidgets as widgets\n",
        "from IPython.display import display\n",
        "\n",
        "slider0 = widgets.FloatSlider(value=0.0, min=-5, max=5, step=0.01)\n",
        "slider1 = widgets.FloatSlider(value=0.0, min=-5, max=5, step=0.01)\n",
        "#button = widgets.Button(description=\"Redraw\")\n",
        "output = widgets.Output()\n",
        " \n",
        "def redraw(_):\n",
        "    with output:\n",
        "        output.clear_output(wait=True)\n",
        "        #print(\"# %f %f\" % (slider0.value, slider1.value))\n",
        "        \n",
        "        #L = np.expand_dims([slider0.value, slider1.value], axis=0)\n",
        "        L = np.array([\n",
        "             [slider0.value, slider1.value],\n",
        "             [slider0.value, slider1.value],\n",
        "        ])\n",
        "\n",
        "        Ys = decoder.predict(L)\n",
        "\n",
        "        plt.clf()\n",
        "        plt.imshow(Ys[0,:,:,0])\n",
        "        plt.show()\n",
        "\n",
        "slider0.observe(redraw, names='value')\n",
        "slider1.observe(redraw, names='value')\n",
        "\n",
        "#button.on_click(redraw)\n",
        "#display(button, output)\n",
        "display(output, slider0, slider1)"
      ],
      "execution_count": 13,
      "outputs": [
        {
          "output_type": "display_data",
          "data": {
            "application/vnd.jupyter.widget-view+json": {
              "model_id": "9d676fb8355146faab543aafef018218",
              "version_minor": 0,
              "version_major": 2
            },
            "text/plain": [
              "Output()"
            ]
          },
          "metadata": {
            "tags": []
          }
        },
        {
          "output_type": "display_data",
          "data": {
            "application/vnd.jupyter.widget-view+json": {
              "model_id": "644b2ea5f8ce4b6c885178be00143ad2",
              "version_minor": 0,
              "version_major": 2
            },
            "text/plain": [
              "FloatSlider(value=0.0, max=5.0, min=-5.0, step=0.01)"
            ]
          },
          "metadata": {
            "tags": []
          }
        },
        {
          "output_type": "display_data",
          "data": {
            "application/vnd.jupyter.widget-view+json": {
              "model_id": "1cca4ff6680046d7b4e372140d8a689b",
              "version_minor": 0,
              "version_major": 2
            },
            "text/plain": [
              "FloatSlider(value=0.0, max=5.0, min=-5.0, step=0.01)"
            ]
          },
          "metadata": {
            "tags": []
          }
        }
      ]
    },
    {
      "cell_type": "code",
      "metadata": {
        "id": "mb5sngyU4UYv"
      },
      "source": [
        ""
      ],
      "execution_count": null,
      "outputs": []
    }
  ]
}