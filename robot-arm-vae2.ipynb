{
  "nbformat": 4,
  "nbformat_minor": 0,
  "metadata": {
    "colab": {
      "name": "mk_cal_images.ipynb",
      "provenance": [],
      "include_colab_link": true
    },
    "kernelspec": {
      "display_name": "Python 3",
      "language": "python",
      "name": "python3"
    },
    "language_info": {
      "codemirror_mode": {
        "name": "ipython",
        "version": 3
      },
      "file_extension": ".py",
      "mimetype": "text/x-python",
      "name": "python",
      "nbconvert_exporter": "python",
      "pygments_lexer": "ipython3",
      "version": "3.7.9"
    },
    "accelerator": "GPU",
    "widgets": {
      "application/vnd.jupyter.widget-state+json": {
        "a3be6005fa1045e6b3675ab3b75e5247": {
          "model_module": "@jupyter-widgets/output",
          "model_name": "OutputModel",
          "state": {
            "_view_name": "OutputView",
            "msg_id": "",
            "_dom_classes": [],
            "_model_name": "OutputModel",
            "outputs": [
              {
                "output_type": "display_data",
                "metadata": {
                  "tags": [],
                  "needs_background": "light"
                },
                "image/png": "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\n",
                "text/plain": "<Figure size 432x288 with 1 Axes>"
              }
            ],
            "_view_module": "@jupyter-widgets/output",
            "_model_module_version": "1.0.0",
            "_view_count": null,
            "_view_module_version": "1.0.0",
            "layout": "IPY_MODEL_cd06ab9f45d446f3b02ff889e93f42bc",
            "_model_module": "@jupyter-widgets/output"
          }
        },
        "cd06ab9f45d446f3b02ff889e93f42bc": {
          "model_module": "@jupyter-widgets/base",
          "model_name": "LayoutModel",
          "state": {
            "_view_name": "LayoutView",
            "grid_template_rows": null,
            "right": null,
            "justify_content": null,
            "_view_module": "@jupyter-widgets/base",
            "overflow": null,
            "_model_module_version": "1.2.0",
            "_view_count": null,
            "flex_flow": null,
            "width": null,
            "min_width": null,
            "border": null,
            "align_items": null,
            "bottom": null,
            "_model_module": "@jupyter-widgets/base",
            "top": null,
            "grid_column": null,
            "overflow_y": null,
            "overflow_x": null,
            "grid_auto_flow": null,
            "grid_area": null,
            "grid_template_columns": null,
            "flex": null,
            "_model_name": "LayoutModel",
            "justify_items": null,
            "grid_row": null,
            "max_height": null,
            "align_content": null,
            "visibility": null,
            "align_self": null,
            "height": null,
            "min_height": null,
            "padding": null,
            "grid_auto_rows": null,
            "grid_gap": null,
            "max_width": null,
            "order": null,
            "_view_module_version": "1.2.0",
            "grid_template_areas": null,
            "object_position": null,
            "object_fit": null,
            "grid_auto_columns": null,
            "margin": null,
            "display": null,
            "left": null
          }
        },
        "2ecc64e3d671476a99f6c133f6707427": {
          "model_module": "@jupyter-widgets/controls",
          "model_name": "FloatSliderModel",
          "state": {
            "_view_name": "FloatSliderView",
            "style": "IPY_MODEL_3887a3e2bbbe478799e688eacb024183",
            "_dom_classes": [],
            "description": "",
            "step": 0.01,
            "_model_name": "FloatSliderModel",
            "orientation": "horizontal",
            "max": 5,
            "_view_module": "@jupyter-widgets/controls",
            "_model_module_version": "1.5.0",
            "value": -3.8,
            "_view_count": null,
            "disabled": false,
            "_view_module_version": "1.5.0",
            "min": -5,
            "continuous_update": true,
            "readout_format": ".2f",
            "description_tooltip": null,
            "readout": true,
            "_model_module": "@jupyter-widgets/controls",
            "layout": "IPY_MODEL_c130e681b7cd4cc4af198199e1e2a084"
          }
        },
        "3887a3e2bbbe478799e688eacb024183": {
          "model_module": "@jupyter-widgets/controls",
          "model_name": "SliderStyleModel",
          "state": {
            "_view_name": "StyleView",
            "handle_color": null,
            "_model_name": "SliderStyleModel",
            "description_width": "",
            "_view_module": "@jupyter-widgets/base",
            "_model_module_version": "1.5.0",
            "_view_count": null,
            "_view_module_version": "1.2.0",
            "_model_module": "@jupyter-widgets/controls"
          }
        },
        "c130e681b7cd4cc4af198199e1e2a084": {
          "model_module": "@jupyter-widgets/base",
          "model_name": "LayoutModel",
          "state": {
            "_view_name": "LayoutView",
            "grid_template_rows": null,
            "right": null,
            "justify_content": null,
            "_view_module": "@jupyter-widgets/base",
            "overflow": null,
            "_model_module_version": "1.2.0",
            "_view_count": null,
            "flex_flow": null,
            "width": null,
            "min_width": null,
            "border": null,
            "align_items": null,
            "bottom": null,
            "_model_module": "@jupyter-widgets/base",
            "top": null,
            "grid_column": null,
            "overflow_y": null,
            "overflow_x": null,
            "grid_auto_flow": null,
            "grid_area": null,
            "grid_template_columns": null,
            "flex": null,
            "_model_name": "LayoutModel",
            "justify_items": null,
            "grid_row": null,
            "max_height": null,
            "align_content": null,
            "visibility": null,
            "align_self": null,
            "height": null,
            "min_height": null,
            "padding": null,
            "grid_auto_rows": null,
            "grid_gap": null,
            "max_width": null,
            "order": null,
            "_view_module_version": "1.2.0",
            "grid_template_areas": null,
            "object_position": null,
            "object_fit": null,
            "grid_auto_columns": null,
            "margin": null,
            "display": null,
            "left": null
          }
        },
        "343d555fb9a94113b7df6e132ce0102e": {
          "model_module": "@jupyter-widgets/controls",
          "model_name": "FloatSliderModel",
          "state": {
            "_view_name": "FloatSliderView",
            "style": "IPY_MODEL_1acb7b3bba8b4383b4d99a0935ab4748",
            "_dom_classes": [],
            "description": "",
            "step": 0.01,
            "_model_name": "FloatSliderModel",
            "orientation": "horizontal",
            "max": 5,
            "_view_module": "@jupyter-widgets/controls",
            "_model_module_version": "1.5.0",
            "value": -3.9,
            "_view_count": null,
            "disabled": false,
            "_view_module_version": "1.5.0",
            "min": -5,
            "continuous_update": true,
            "readout_format": ".2f",
            "description_tooltip": null,
            "readout": true,
            "_model_module": "@jupyter-widgets/controls",
            "layout": "IPY_MODEL_5a4f526875aa4140b939b4145ebccdb2"
          }
        },
        "1acb7b3bba8b4383b4d99a0935ab4748": {
          "model_module": "@jupyter-widgets/controls",
          "model_name": "SliderStyleModel",
          "state": {
            "_view_name": "StyleView",
            "handle_color": null,
            "_model_name": "SliderStyleModel",
            "description_width": "",
            "_view_module": "@jupyter-widgets/base",
            "_model_module_version": "1.5.0",
            "_view_count": null,
            "_view_module_version": "1.2.0",
            "_model_module": "@jupyter-widgets/controls"
          }
        },
        "5a4f526875aa4140b939b4145ebccdb2": {
          "model_module": "@jupyter-widgets/base",
          "model_name": "LayoutModel",
          "state": {
            "_view_name": "LayoutView",
            "grid_template_rows": null,
            "right": null,
            "justify_content": null,
            "_view_module": "@jupyter-widgets/base",
            "overflow": null,
            "_model_module_version": "1.2.0",
            "_view_count": null,
            "flex_flow": null,
            "width": null,
            "min_width": null,
            "border": null,
            "align_items": null,
            "bottom": null,
            "_model_module": "@jupyter-widgets/base",
            "top": null,
            "grid_column": null,
            "overflow_y": null,
            "overflow_x": null,
            "grid_auto_flow": null,
            "grid_area": null,
            "grid_template_columns": null,
            "flex": null,
            "_model_name": "LayoutModel",
            "justify_items": null,
            "grid_row": null,
            "max_height": null,
            "align_content": null,
            "visibility": null,
            "align_self": null,
            "height": null,
            "min_height": null,
            "padding": null,
            "grid_auto_rows": null,
            "grid_gap": null,
            "max_width": null,
            "order": null,
            "_view_module_version": "1.2.0",
            "grid_template_areas": null,
            "object_position": null,
            "object_fit": null,
            "grid_auto_columns": null,
            "margin": null,
            "display": null,
            "left": null
          }
        }
      }
    }
  },
  "cells": [
    {
      "cell_type": "markdown",
      "metadata": {
        "id": "view-in-github",
        "colab_type": "text"
      },
      "source": [
        "<a href=\"https://colab.research.google.com/github/abbbe/autoenc/blob/main/robot-arm-vae2.ipynb\" target=\"_parent\"><img src=\"https://colab.research.google.com/assets/colab-badge.svg\" alt=\"Open In Colab\"/></a>"
      ]
    },
    {
      "cell_type": "markdown",
      "metadata": {
        "id": "1GeZE0jf4UYi"
      },
      "source": [
        "## Install dependencies << only once, restart the runtime after this"
      ]
    },
    {
      "cell_type": "code",
      "metadata": {
        "id": "no-MKhiU4UYm",
        "colab": {
          "base_uri": "https://localhost:8080/"
        },
        "outputId": "55bc8073-3e1e-4936-f551-a32338d06d06"
      },
      "source": [
        "!apt-get -qq -y install xvfb freeglut3-dev ffmpeg> /dev/null\n",
        "!pip -q install gym\n",
        "!pip -q install pyglet\n",
        "!pip -q install pyopengl\n",
        "!pip -q install pyvirtualdisplay\n",
        "!pip -q install pygame\n",
        " \n",
        "!git clone https://github.com/ekorudiawan/gym-robot-arm.git\n",
        "!cd gym-robot-arm && pip install -e ."
      ],
      "execution_count": 1,
      "outputs": [
        {
          "output_type": "stream",
          "text": [
            "\u001b[K     |████████████████████████████████| 11.8MB 19.8MB/s \n",
            "\u001b[?25hCloning into 'gym-robot-arm'...\n",
            "remote: Enumerating objects: 37, done.\u001b[K\n",
            "remote: Counting objects: 100% (37/37), done.\u001b[K\n",
            "remote: Compressing objects: 100% (28/28), done.\u001b[K\n",
            "remote: Total 37 (delta 10), reused 34 (delta 7), pack-reused 0\u001b[K\n",
            "Unpacking objects: 100% (37/37), done.\n",
            "Obtaining file:///content/gym-robot-arm\n",
            "Requirement already satisfied: gym in /usr/local/lib/python3.7/dist-packages (from gym-robot-arm==0.0.1) (0.17.3)\n",
            "Requirement already satisfied: pygame in /usr/local/lib/python3.7/dist-packages (from gym-robot-arm==0.0.1) (2.0.1)\n",
            "Requirement already satisfied: scipy in /usr/local/lib/python3.7/dist-packages (from gym-robot-arm==0.0.1) (1.4.1)\n",
            "Requirement already satisfied: cloudpickle<1.7.0,>=1.2.0 in /usr/local/lib/python3.7/dist-packages (from gym->gym-robot-arm==0.0.1) (1.3.0)\n",
            "Requirement already satisfied: numpy>=1.10.4 in /usr/local/lib/python3.7/dist-packages (from gym->gym-robot-arm==0.0.1) (1.19.5)\n",
            "Requirement already satisfied: pyglet<=1.5.0,>=1.4.0 in /usr/local/lib/python3.7/dist-packages (from gym->gym-robot-arm==0.0.1) (1.5.0)\n",
            "Requirement already satisfied: future in /usr/local/lib/python3.7/dist-packages (from pyglet<=1.5.0,>=1.4.0->gym->gym-robot-arm==0.0.1) (0.16.0)\n",
            "Installing collected packages: gym-robot-arm\n",
            "  Running setup.py develop for gym-robot-arm\n",
            "Successfully installed gym-robot-arm\n"
          ],
          "name": "stdout"
        }
      ]
    },
    {
      "cell_type": "markdown",
      "metadata": {
        "id": "4JiXGRwP4UYm"
      },
      "source": [
        "## Load required modules << after each runtime restart"
      ]
    },
    {
      "cell_type": "code",
      "metadata": {
        "id": "OoMQk_5c4UYm",
        "colab": {
          "base_uri": "https://localhost:8080/"
        },
        "outputId": "882e376e-6518-4503-cfab-457469c5a17e"
      },
      "source": [
        "import numpy as np\n",
        "from matplotlib import pyplot as plt\n",
        "%matplotlib inline\n",
        "%load_ext autoreload\n",
        "%autoreload 2\n",
        "\n",
        "import gym \n",
        "import pygame\n",
        "import numpy as np\n",
        "import skimage.transform\n",
        "\n",
        "import tensorflow as tf\n",
        "import tensorflow.keras as keras\n",
        "from tensorflow.keras.layers import Dense, Flatten, Conv2D\n",
        "from tensorflow.keras import Model, layers\n",
        "%load_ext tensorboard"
      ],
      "execution_count": 1,
      "outputs": [
        {
          "output_type": "stream",
          "text": [
            "pygame 2.0.1 (SDL 2.0.14, Python 3.7.10)\n",
            "Hello from the pygame community. https://www.pygame.org/contribute.html\n"
          ],
          "name": "stdout"
        }
      ]
    },
    {
      "cell_type": "markdown",
      "metadata": {
        "id": "VQG2P5w_4UYn"
      },
      "source": [
        "## Gym << if you plan to interact with the robot"
      ]
    },
    {
      "cell_type": "code",
      "metadata": {
        "id": "uRaV5OoY4UYn"
      },
      "source": [
        "# instantiate robot arm\n",
        "env = gym.make('gym_robot_arm:robot-arm-v1')\n",
        "env.draw_target = lambda: None # sabotage target (red circle) drawing\n",
        "\n",
        "D = 64 # screen will be scaled to DxD\n",
        "\n",
        "def get_pygame_display_img_array():\n",
        "    img_surface = pygame.display.get_surface()\n",
        "    img_array = pygame.surfarray.array3d(img_surface)\n",
        "    return img_array\n",
        "\n",
        "def get_Y():\n",
        "    \"\"\"\n",
        "    Returns a screenshot of the current game screen as 2D numpy array.\n",
        "    Converted to grayscale, resized to DxD.\n",
        "    \"\"\"\n",
        "    img_array = get_pygame_display_img_array()\n",
        "    # convert to grayscale\n",
        "    img_array = np.average(img_array, axis=2)\n",
        "\n",
        "    # resize (preserves channels)\n",
        "    img_array = skimage.transform.resize(img_array, (D, D))\n",
        "\n",
        "    #from PIL import Image\n",
        "    #import matplotlib.pyplot as plt\n",
        "    #img = Image.fromarray(img_array)\n",
        "    #img.show()\n",
        "\n",
        "    return img_array / 255.\n",
        "\n",
        "def plot_Ys(ys):\n",
        "    \"\"\"\n",
        "    Plot given DxD greyscale images\n",
        "    \"\"\"\n",
        "    _fig, axs = plt.subplots(1, ys.shape[0])\n",
        "    for i in range(ys.shape[0]):\n",
        "        axs[i].imshow(ys[i])"
      ],
      "execution_count": null,
      "outputs": []
    },
    {
      "cell_type": "markdown",
      "metadata": {
        "id": "sB4F8h344UYo"
      },
      "source": [
        "# TRAIN AND SAVE << or skip all the way down to LOAD AND USE\n",
        "## Generate train, test, and validation data"
      ]
    },
    {
      "cell_type": "code",
      "metadata": {
        "tags": [],
        "id": "emVRrEjz4UYo"
      },
      "source": [
        "def gen_data(N):\n",
        "    \"\"\"\n",
        "    Generate testdata: actions and robot views\n",
        "    \"\"\"\n",
        "    env.reset()\n",
        "\n",
        "    print(\"Generating %d snapshots of the robot\" % N)\n",
        "    for i in range(N):\n",
        "        action = env.action_space.sample()\n",
        "        obs, _reward, _done, _info = env.step(action)\n",
        "        env.render()\n",
        "\n",
        "        y = get_Y()\n",
        "\n",
        "        if i == 0:\n",
        "            A = np.zeros([N] + list(action.shape))\n",
        "            Y = np.zeros([N] + list(y.shape))\n",
        "\n",
        "        A[i] = action.flatten()\n",
        "        Y[i] = y\n",
        "\n",
        "    env.close()\n",
        "\n",
        "    Y = np.expand_dims(Y, axis=-1)\n",
        "    return A, Y"
      ],
      "execution_count": null,
      "outputs": []
    },
    {
      "cell_type": "code",
      "metadata": {
        "id": "Wvc6y3tg4UYo"
      },
      "source": [
        "# 1000 train, 100 test, 100 validate\n",
        "train_A, train_Y = gen_data(1000)\n",
        "test_A, test_Y = gen_data(100)\n",
        "val_A, val_Y = gen_data(100)"
      ],
      "execution_count": null,
      "outputs": []
    },
    {
      "cell_type": "code",
      "metadata": {
        "id": "V1p1Lr9w4UYo"
      },
      "source": [
        "print(\"train_A.shape=%s, train_Y.shape=%s\" % (str(train_A.shape), str(train_Y.shape)))\n",
        "plot_Ys(train_Y[:3,...])"
      ],
      "execution_count": null,
      "outputs": []
    },
    {
      "cell_type": "markdown",
      "metadata": {
        "id": "8dK5B_X64UYp"
      },
      "source": [
        "## Build the model"
      ]
    },
    {
      "cell_type": "code",
      "metadata": {
        "id": "Z-UOUGuL4UYp"
      },
      "source": [
        "#https://www.pyimagesearch.com/2020/02/17/autoencoders-with-keras-tensorflow-and-deep-learning/\n",
        "from tensorflow.keras.layers import BatchNormalization\n",
        "from tensorflow.keras.layers import Conv2D\n",
        "from tensorflow.keras.layers import Conv2DTranspose\n",
        "from tensorflow.keras.layers import LeakyReLU\n",
        "from tensorflow.keras.layers import Activation\n",
        "from tensorflow.keras.layers import Flatten\n",
        "from tensorflow.keras.layers import Dense\n",
        "from tensorflow.keras.layers import Reshape\n",
        "from tensorflow.keras.layers import Input\n",
        "from tensorflow.keras.models import Model\n",
        "from tensorflow.keras.optimizers import Adam\n",
        "from tensorflow.keras import backend as K\n",
        "import numpy as np"
      ],
      "execution_count": null,
      "outputs": []
    },
    {
      "cell_type": "code",
      "metadata": {
        "id": "xeMYiQ2d4UYp"
      },
      "source": [
        "def build_conv_autoencoder(width, height, depth, latentDim, filters=(256,16)):\n",
        "    \n",
        "    def build_encoder(inp):\n",
        "        x = inp\n",
        "        for f in filters:\n",
        "            # apply a CONV => RELU => BN operation\n",
        "            x = Conv2D(f, (3, 3), strides=2, padding=\"same\")(x)\n",
        "            x = LeakyReLU(alpha=0.2)(x)\n",
        "            x = BatchNormalization(axis=chanDim)(x)\n",
        "\n",
        "        # flatten the network and then construct our latent vector\n",
        "        volumeSize = K.int_shape(x)\n",
        "        x = Flatten()(x)\n",
        "        latent = Dense(latentDim)(x)\n",
        "\n",
        "        encoder = Model(inp, latent, name=\"encoder\")\n",
        "        return encoder, volumeSize\n",
        "    \n",
        "    def build_decoder(latentInputs, volumeSize):\n",
        "        x = Dense(np.prod(volumeSize[1:]))(latentInputs)\n",
        "        x = Reshape((volumeSize[1], volumeSize[2], volumeSize[3]))(x)\n",
        "        # loop over our number of filters again, but this time in reverse order\n",
        "        for f in filters[::-1]:\n",
        "            # apply a CONV_TRANSPOSE => RELU => BN operation\n",
        "            x = Conv2DTranspose(f, (3, 3), strides=2, padding=\"same\")(x)\n",
        "            x = LeakyReLU(alpha=0.2)(x)\n",
        "            x = BatchNormalization(axis=chanDim)(x)\n",
        "\n",
        "        # apply a single CONV_TRANSPOSE layer used to recover the original depth of the image\n",
        "        x = Conv2DTranspose(depth, (3, 3), padding=\"same\")(x)\n",
        "        outputs = Activation(\"sigmoid\")(x)\n",
        "        decoder = Model(latentInputs, outputs, name=\"decoder\")\n",
        "        return decoder\n",
        "\n",
        "    inputShape = (height, width, depth)\n",
        "    chanDim = -1\n",
        "   \n",
        "    inputs = Input(shape=inputShape)\n",
        "    encoder_model, volumeSize = build_encoder(inputs)\n",
        "\n",
        "    latentInputs = Input(shape=(latentDim,))\n",
        "    decoder_model = build_decoder(latentInputs, volumeSize)\n",
        "\n",
        "    autoencoder = Model(inputs, decoder_model(encoder_model(inputs)), name=\"autoencoder\")\n",
        "    autoencoder.compile(optimizer='adam', loss='mse', metrics=['accuracy'])\n",
        "    \n",
        "    return autoencoder, encoder_model, decoder_model"
      ],
      "execution_count": null,
      "outputs": []
    },
    {
      "cell_type": "code",
      "metadata": {
        "id": "px0qjlGS4UYp"
      },
      "source": [
        "#from numba import cuda\n",
        "#device = cuda.get_current_device()\n",
        "#device.reset()"
      ],
      "execution_count": null,
      "outputs": []
    },
    {
      "cell_type": "code",
      "metadata": {
        "id": "_cYa6YJ64UYq"
      },
      "source": [
        "autoencoder, encoder, decoder = build_conv_autoencoder(train_Y.shape[1], train_Y.shape[2], 1, 2)\n",
        "print(encoder.summary())\n",
        "print(decoder.summary())"
      ],
      "execution_count": null,
      "outputs": []
    },
    {
      "cell_type": "markdown",
      "metadata": {
        "id": "onKpqH5t4UYq"
      },
      "source": [
        "## Fit the model"
      ]
    },
    {
      "cell_type": "code",
      "metadata": {
        "tags": [],
        "id": "51As6z9r4UYq"
      },
      "source": [
        "#autoencoder.fit(train_Y, train_Y, batch_size=64, epochs=250, validation_data=(test_Y, test_Y), verbose=1)\n",
        "def train_model():\n",
        "    import os, datetime\n",
        "    logdir = os.path.join(\"logs\", datetime.datetime.now().strftime(\"%Y%m%d-%H%M%S\"))\n",
        "    tensorboard_callback = tf.keras.callbacks.TensorBoard(logdir) #, histogram_freq=1)\n",
        "    autoencoder.fit(train_Y, train_Y, batch_size=64, epochs=50, validation_data=(test_Y, test_Y), verbose=0,\n",
        "                    callbacks=[tensorboard_callback])"
      ],
      "execution_count": null,
      "outputs": []
    },
    {
      "cell_type": "code",
      "metadata": {
        "id": "Z2szR8OO4UYr"
      },
      "source": [
        "for _ in range(1):\n",
        "    train_model()"
      ],
      "execution_count": null,
      "outputs": []
    },
    {
      "cell_type": "markdown",
      "metadata": {
        "id": "v8XPwUna4UYr"
      },
      "source": [
        "## Evaluate"
      ]
    },
    {
      "cell_type": "code",
      "metadata": {
        "id": "KPkW0WJT4UYr"
      },
      "source": [
        "L = encoder.predict(train_Y)\n",
        "YY = decoder.predict(L)"
      ],
      "execution_count": null,
      "outputs": []
    },
    {
      "cell_type": "markdown",
      "metadata": {
        "id": "ou6StXws4UYr"
      },
      "source": [
        "### plot latent vars histogram (on training data)"
      ]
    },
    {
      "cell_type": "code",
      "metadata": {
        "id": "myNqMX5C4UYs",
        "outputId": "d5648ebf-838d-461b-c095-1c91781314fe"
      },
      "source": [
        "for i in range(L.shape[1]):\n",
        "    plt.hist(L[:, i])"
      ],
      "execution_count": null,
      "outputs": [
        {
          "output_type": "display_data",
          "data": {
            "image/png": "[encoded data removed]",
            "text/plain": [
              "<Figure size 432x288 with 1 Axes>"
            ]
          },
          "metadata": {
            "tags": [],
            "needs_background": "light"
          }
        }
      ]
    },
    {
      "cell_type": "markdown",
      "metadata": {
        "id": "w1yuWnCs4UYs"
      },
      "source": [
        "### show 3 pairs of real / regenerated images (from training data)"
      ]
    },
    {
      "cell_type": "code",
      "metadata": {
        "id": "zNoS4fkF4UYs",
        "outputId": "c11ba3ad-5e4b-4386-c0e0-873365b5dd42"
      },
      "source": [
        "# draw first 3 real robot views from the training set, then generated ones\n",
        "plot_Ys(train_Y[[0,1,2],...])"
      ],
      "execution_count": null,
      "outputs": [
        {
          "output_type": "display_data",
          "data": {
            "image/png": "[encoded data removed]",
            "text/plain": [
              "<Figure size 432x288 with 3 Axes>"
            ]
          },
          "metadata": {
            "tags": [],
            "needs_background": "light"
          }
        }
      ]
    },
    {
      "cell_type": "code",
      "metadata": {
        "id": "3MIcUyVB4UYs",
        "outputId": "ddeed515-7252-4dab-b2d4-0e22e2bd2c41"
      },
      "source": [
        "plot_Ys(YY[[0,1,2],...])"
      ],
      "execution_count": null,
      "outputs": [
        {
          "output_type": "display_data",
          "data": {
            "image/png": "[encoded data removed]",
            "text/plain": [
              "<Figure size 432x288 with 3 Axes>"
            ]
          },
          "metadata": {
            "tags": [],
            "needs_background": "light"
          }
        }
      ]
    },
    {
      "cell_type": "markdown",
      "metadata": {
        "id": "sVEdkOZP4UYt"
      },
      "source": [
        "## Validation"
      ]
    },
    {
      "cell_type": "code",
      "metadata": {
        "id": "9Klt07Df4UYt"
      },
      "source": [
        "val_L = encoder.predict(val_Y)\n",
        "val_YY = decoder.predict(val_L)"
      ],
      "execution_count": null,
      "outputs": []
    },
    {
      "cell_type": "code",
      "metadata": {
        "id": "_FaWEtVt4UYt"
      },
      "source": [
        "plot_Ys(val_Y[[0,1,2],...])"
      ],
      "execution_count": null,
      "outputs": []
    },
    {
      "cell_type": "code",
      "metadata": {
        "id": "NIdzOFhQ4UYt"
      },
      "source": [
        "plot_Ys(val_YY[[0,1,2],...])"
      ],
      "execution_count": null,
      "outputs": []
    },
    {
      "cell_type": "code",
      "metadata": {
        "id": "LiFzot5U4UYt"
      },
      "source": [
        "# plot the latent vars (vertical axis) vs joint[0] (horizontal)\n",
        "_fig, axs = plt.subplots(val_L.shape[1])\n",
        "for i in range(val_L.shape[1]):\n",
        "    axs[i].plot(val_A[:,0], val_L[:, i], '.')"
      ],
      "execution_count": null,
      "outputs": []
    },
    {
      "cell_type": "code",
      "metadata": {
        "id": "yczcdQ7c4UYt"
      },
      "source": [
        "# plot the latent vars (vertical axis) vs joint[1] (horizontal)\n",
        "_fig, axs = plt.subplots(val_L.shape[1])\n",
        "for i in range(val_L.shape[1]):\n",
        "    axs[i].plot(val_A[:,1], val_L[:, i], '.')"
      ],
      "execution_count": null,
      "outputs": []
    },
    {
      "cell_type": "markdown",
      "metadata": {
        "id": "xuSwlxw94UYt"
      },
      "source": [
        "## Save the data and the models"
      ]
    },
    {
      "cell_type": "code",
      "metadata": {
        "id": "TSEWoYw_4UYu"
      },
      "source": [
        "import pickle\n",
        "\n",
        "print(train_Y.shape)\n",
        "with open('robot-arm-vae2-dataset.pickle', 'wb') as handle:\n",
        "    pickle.dump([train_A, train_Y, test_A, test_Y, val_A, val_Y, val_L], handle, protocol=pickle.HIGHEST_PROTOCOL)"
      ],
      "execution_count": null,
      "outputs": []
    },
    {
      "cell_type": "code",
      "metadata": {
        "id": "5Bk-HBF_4UYu"
      },
      "source": [
        "autoencoder.save('robot-arm-vae2-autoencoder.h5')\n",
        "encoder.save('robot-arm-vae2-encoder.h5')\n",
        "decoder.save('robot-arm-vae2-decoder.h5')"
      ],
      "execution_count": null,
      "outputs": []
    },
    {
      "cell_type": "markdown",
      "metadata": {
        "id": "q28pHtfm4UYu"
      },
      "source": [
        "# LOAD AND USE"
      ]
    },
    {
      "cell_type": "markdown",
      "metadata": {
        "id": "uu-RV_6j5tGw"
      },
      "source": [
        "## Grab autoenc/ repo and chdir there << useful when opening notebook in **Colab**"
      ]
    },
    {
      "cell_type": "code",
      "metadata": {
        "id": "QHACal285YPP",
        "colab": {
          "base_uri": "https://localhost:8080/"
        },
        "outputId": "f17f0bd6-d860-49a5-fbf5-c54663971bd2"
      },
      "source": [
        "!git clone https://github.com/abbbe/autoenc.git\r\n",
        "%cd autoenc"
      ],
      "execution_count": 2,
      "outputs": [
        {
          "output_type": "stream",
          "text": [
            "Cloning into 'autoenc'...\n",
            "remote: Enumerating objects: 13, done.\u001b[K\n",
            "remote: Counting objects:   7% (1/13)\u001b[K\rremote: Counting objects:  15% (2/13)\u001b[K\rremote: Counting objects:  23% (3/13)\u001b[K\rremote: Counting objects:  30% (4/13)\u001b[K\rremote: Counting objects:  38% (5/13)\u001b[K\rremote: Counting objects:  46% (6/13)\u001b[K\rremote: Counting objects:  53% (7/13)\u001b[K\rremote: Counting objects:  61% (8/13)\u001b[K\rremote: Counting objects:  69% (9/13)\u001b[K\rremote: Counting objects:  76% (10/13)\u001b[K\rremote: Counting objects:  84% (11/13)\u001b[K\rremote: Counting objects:  92% (12/13)\u001b[K\rremote: Counting objects: 100% (13/13)\u001b[K\rremote: Counting objects: 100% (13/13), done.\u001b[K\n",
            "remote: Compressing objects: 100% (11/11), done.\u001b[K\n",
            "remote: Total 13 (delta 6), reused 5 (delta 2), pack-reused 0\u001b[K\n",
            "Unpacking objects: 100% (13/13), done.\n",
            "/content/autoenc\n"
          ],
          "name": "stdout"
        }
      ]
    },
    {
      "cell_type": "markdown",
      "metadata": {
        "id": "wdfAL69h4UYu"
      },
      "source": [
        "## Load data"
      ]
    },
    {
      "cell_type": "code",
      "metadata": {
        "id": "O95fESpy4UYu",
        "colab": {
          "base_uri": "https://localhost:8080/"
        },
        "outputId": "9c1217e1-b3e4-49cc-94e1-f2a26d0cd6ca"
      },
      "source": [
        "import pickle\n",
        "# Load data\n",
        "with open('robot-arm-vae2-dataset.pickle', 'rb') as handle:\n",
        "    [train_A, train_Y, test_A, test_Y, val_A, val_Y, val_L] = pickle.load(handle)\n",
        "print(train_Y.shape)"
      ],
      "execution_count": 3,
      "outputs": [
        {
          "output_type": "stream",
          "text": [
            "(1000, 64, 64, 1)\n"
          ],
          "name": "stdout"
        }
      ]
    },
    {
      "cell_type": "markdown",
      "metadata": {
        "id": "eMT-Is1F4UYu"
      },
      "source": [
        "## Load autoencoder models and weights from files"
      ]
    },
    {
      "cell_type": "code",
      "metadata": {
        "id": "kevcbgQC4UYu",
        "colab": {
          "base_uri": "https://localhost:8080/"
        },
        "outputId": "0ae96179-727d-4abd-eead-e089d68b9165"
      },
      "source": [
        "from tensorflow import keras\n",
        "\n",
        "autoencoder = keras.models.load_model(\"robot-arm-vae2-autoencoder.h5\")\n",
        "encoder = keras.models.load_model(\"robot-arm-vae2-encoder.h5\")\n",
        "decoder = keras.models.load_model(\"robot-arm-vae2-decoder.h5\")"
      ],
      "execution_count": 4,
      "outputs": [
        {
          "output_type": "stream",
          "text": [
            "WARNING:tensorflow:No training configuration found in the save file, so the model was *not* compiled. Compile it manually.\n",
            "WARNING:tensorflow:No training configuration found in the save file, so the model was *not* compiled. Compile it manually.\n"
          ],
          "name": "stdout"
        }
      ]
    },
    {
      "cell_type": "markdown",
      "metadata": {
        "id": "HtECmozG4UYv"
      },
      "source": [
        "# Change latent variables and render live decoder output"
      ]
    },
    {
      "cell_type": "code",
      "metadata": {
        "id": "ouievsfT4UYv",
        "colab": {
          "base_uri": "https://localhost:8080/",
          "height": 265
        },
        "outputId": "443ec989-f30f-47a4-f834-e4590cec67b7"
      },
      "source": [
        "_=plt.hist(val_L)"
      ],
      "execution_count": 5,
      "outputs": [
        {
          "output_type": "display_data",
          "data": {
            "image/png": "[encoded data removed]",
            "text/plain": [
              "<Figure size 432x288 with 1 Axes>"
            ]
          },
          "metadata": {
            "tags": [],
            "needs_background": "light"
          }
        }
      ]
    },
    {
      "cell_type": "code",
      "metadata": {
        "id": "KjzeM5Vc4UYv",
        "colab": {
          "base_uri": "https://localhost:8080/",
          "height": 330,
          "referenced_widgets": [
            "a3be6005fa1045e6b3675ab3b75e5247",
            "cd06ab9f45d446f3b02ff889e93f42bc",
            "2ecc64e3d671476a99f6c133f6707427",
            "3887a3e2bbbe478799e688eacb024183",
            "c130e681b7cd4cc4af198199e1e2a084",
            "343d555fb9a94113b7df6e132ce0102e",
            "1acb7b3bba8b4383b4d99a0935ab4748",
            "5a4f526875aa4140b939b4145ebccdb2"
          ]
        },
        "outputId": "17908d70-1189-43ae-dc8e-d8ab306a854f"
      },
      "source": [
        "import ipywidgets as widgets\n",
        "from IPython.display import display\n",
        "\n",
        "slider0 = widgets.FloatSlider(value=0.0, min=-5, max=5, step=0.01)\n",
        "slider1 = widgets.FloatSlider(value=0.0, min=-5, max=5, step=0.01)\n",
        "#button = widgets.Button(description=\"Redraw\")\n",
        "output = widgets.Output()\n",
        " \n",
        "def redraw(_):\n",
        "    with output:\n",
        "        output.clear_output(wait=True)\n",
        "        #print(\"# %f %f\" % (slider0.value, slider1.value))\n",
        "        \n",
        "        #L = np.expand_dims([slider0.value, slider1.value], axis=0)\n",
        "        L = np.array([\n",
        "             [slider0.value, slider1.value],\n",
        "             [slider0.value, slider1.value],\n",
        "        ])\n",
        "\n",
        "        Ys = decoder.predict(L)\n",
        "\n",
        "        plt.clf()\n",
        "        plt.imshow(Ys[0,:,:,0])\n",
        "        plt.show()\n",
        "\n",
        "slider0.observe(redraw, names='value')\n",
        "slider1.observe(redraw, names='value')\n",
        "\n",
        "#button.on_click(redraw)\n",
        "#display(button, output)\n",
        "display(output, slider0, slider1)\n",
        "redraw(None)"
      ],
      "execution_count": 5,
      "outputs": [
        {
          "output_type": "display_data",
          "data": {
            "application/vnd.jupyter.widget-view+json": {
              "model_id": "a3be6005fa1045e6b3675ab3b75e5247",
              "version_minor": 0,
              "version_major": 2
            },
            "text/plain": [
              "Output()"
            ]
          },
          "metadata": {
            "tags": []
          }
        },
        {
          "output_type": "display_data",
          "data": {
            "application/vnd.jupyter.widget-view+json": {
              "model_id": "2ecc64e3d671476a99f6c133f6707427",
              "version_minor": 0,
              "version_major": 2
            },
            "text/plain": [
              "FloatSlider(value=0.0, max=5.0, min=-5.0, step=0.01)"
            ]
          },
          "metadata": {
            "tags": []
          }
        },
        {
          "output_type": "display_data",
          "data": {
            "application/vnd.jupyter.widget-view+json": {
              "model_id": "343d555fb9a94113b7df6e132ce0102e",
              "version_minor": 0,
              "version_major": 2
            },
            "text/plain": [
              "FloatSlider(value=0.0, max=5.0, min=-5.0, step=0.01)"
            ]
          },
          "metadata": {
            "tags": []
          }
        }
      ]
    },
    {
      "cell_type": "code",
      "metadata": {
        "id": "mb5sngyU4UYv"
      },
      "source": [
        ""
      ],
      "execution_count": null,
      "outputs": []
    }
  ]
}