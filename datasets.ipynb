{
 "cells": [
  {
   "cell_type": "code",
   "execution_count": 1,
   "id": "ethical-surfing",
   "metadata": {},
   "outputs": [],
   "source": [
    "import os\n",
    "import numpy as np\n",
    "import matplotlib.pyplot as plt\n",
    "\n",
    "from lib.datasets import load_datasets"
   ]
  },
  {
   "cell_type": "code",
   "execution_count": 2,
   "id": "black-creature",
   "metadata": {},
   "outputs": [
    {
     "name": "stdout",
     "output_type": "stream",
     "text": [
      "Loading datasets/twoballs_linspaced_250k.npz ...\n",
      "Loaded 250000 datapoints from datasets/twoballs_linspaced_250k.npz\n",
      "Loading datasets/twoballs_rand_1k.npz ...\n",
      "Loaded 1000 datapoints from datasets/twoballs_rand_1k.npz\n",
      "Loading datasets/twoballs_grid_100_1000.npz ...\n",
      "Loaded 100000 datapoints from datasets/twoballs_grid_100_1000.npz\n"
     ]
    }
   ],
   "source": [
    "ds = load_datasets('twoballs')"
   ]
  },
  {
   "cell_type": "code",
   "execution_count": 4,
   "id": "defensive-plaza",
   "metadata": {},
   "outputs": [],
   "source": [
    "angles, images = ds['train']['angles'], ds['train']['images']"
   ]
  }
 ],
 "metadata": {
  "kernelspec": {
   "display_name": "Python 3",
   "language": "python",
   "name": "python3"
  },
  "language_info": {
   "codemirror_mode": {
    "name": "ipython",
    "version": 3
   },
   "file_extension": ".py",
   "mimetype": "text/x-python",
   "name": "python",
   "nbconvert_exporter": "python",
   "pygments_lexer": "ipython3",
   "version": "3.6.12"
  }
 },
 "nbformat": 4,
 "nbformat_minor": 5
}
