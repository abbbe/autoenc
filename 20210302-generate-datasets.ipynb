{
 "cells": [
  {
   "cell_type": "markdown",
   "metadata": {},
   "source": [
    " * Generate 40k linspaced dataset, save in 'dataset-linspace-40k.pickle'"
   ]
  },
  {
   "cell_type": "code",
   "execution_count": 2,
   "metadata": {
    "colab": {
     "base_uri": "https://localhost:8080/"
    },
    "id": "OoMQk_5c4UYm",
    "outputId": "02cc896f-38e0-4a92-81ce-c20a7322369d"
   },
   "outputs": [],
   "source": [
    "%load_ext autoreload\n",
    "%autoreload 2\n",
    "\n",
    "import numpy as np\n",
    "\n",
    "%matplotlib inline\n",
    "from matplotlib import pyplot as plt"
   ]
  },
  {
   "cell_type": "code",
   "execution_count": null,
   "metadata": {
    "id": "uRaV5OoY4UYn"
   },
   "outputs": [],
   "source": [
    "# spawn gym environment\n",
    "from env import ArmRobotEnv\n",
    "env = ArmRobotEnv()"
   ]
  },
  {
   "cell_type": "markdown",
   "metadata": {},
   "source": [
    "## Implementation of a linspaced dataset generator"
   ]
  },
  {
   "cell_type": "code",
   "execution_count": 14,
   "metadata": {
    "id": "emVRrEjz4UYo",
    "tags": []
   },
   "outputs": [],
   "source": [
    "import time\n",
    "\n",
    "def gen_data2(a1s, a2s):\n",
    "    \"\"\"\n",
    "    Generate testdata: actions and robot views\n",
    "    \"\"\"\n",
    "    env.reset()\n",
    "\n",
    "    assert(len(a1s.shape) == len(a2s.shape) == 1)\n",
    "    N = a1s.shape[0] * a2s.shape[0]\n",
    "    estimated_time = N * 0.035\n",
    "    print(\"Generating %d datapoints ... (approx %f sec)\" % (N, estimated_time))\n",
    "\n",
    "    A, Y = [], []\n",
    "    \n",
    "    start_time = time.time()\n",
    "    for a1 in a2s:\n",
    "        for a2 in a2s:\n",
    "            action = np.array([a1, a2])\n",
    "            obs, _reward, _done, _info = env.step(action)\n",
    "            env.render()\n",
    "            y = env.get_image()\n",
    "\n",
    "            if i == 0:\n",
    "                A = np.zeros([nrows, ncols] + list(action.shape))\n",
    "                Y = np.zeros([nrows, ncols] + list(y.shape))\n",
    "\n",
    "            A.append(action.flatten())\n",
    "            Y.append(y)\n",
    "  \n",
    "    elapsed = time.time() - start_time\n",
    "    print(\"Generated %d data points. Actual time: %.1fs (%f sec/datapoint)\" % (N, elapsed, elapsed/N))\n",
    "\n",
    "    return {'A': np.array(A), 'Y': np.array(Y)}"
   ]
  },
  {
   "cell_type": "code",
   "execution_count": null,
   "metadata": {},
   "outputs": [],
   "source": [
    "#a_space = np.linspace(-1., 1., 20)\n",
    "#data = gen_data2(a_space, a_space)"
   ]
  },
  {
   "cell_type": "markdown",
   "metadata": {
    "colab": {
     "base_uri": "https://localhost:8080/",
     "height": 167
    },
    "id": "V1p1Lr9w4UYo",
    "outputId": "aea69fdf-acbd-4588-84fe-c2f71d087f76"
   },
   "source": [
    "### Implementations of save_dataset() and load_dataset()"
   ]
  },
  {
   "cell_type": "code",
   "execution_count": 35,
   "metadata": {},
   "outputs": [],
   "source": [
    "import pickle\n",
    "\n",
    "def load_dataset(filename):\n",
    "    with open(filename, 'rb') as handle:\n",
    "        return pickle.load(handle)\n",
    "\n",
    "def save_dataset(dataset, filename):\n",
    "    # https://betterprogramming.pub/load-fast-load-big-with-compressed-pickles-5f311584507e\n",
    "    with open(filename, 'wb') as handle:\n",
    "        pickle.dump(dataset, handle, protocol=pickle.HIGHEST_PROTOCOL)\n",
    "    print(\"Dataset saved in %s\" % filename)"
   ]
  },
  {
   "cell_type": "code",
   "execution_count": null,
   "metadata": {},
   "outputs": [],
   "source": [
    "#save_dataset([train, test, val], 'dataset-random-100k.mdict.pickle')"
   ]
  },
  {
   "cell_type": "markdown",
   "metadata": {
    "colab": {
     "base_uri": "https://localhost:8080/",
     "height": 167
    },
    "id": "V1p1Lr9w4UYo",
    "outputId": "aea69fdf-acbd-4588-84fe-c2f71d087f76"
   },
   "source": [
    "### Implementation of dataset visualization"
   ]
  },
  {
   "cell_type": "code",
   "execution_count": 59,
   "metadata": {
    "scrolled": false
   },
   "outputs": [],
   "source": [
    "def visualize(data, N=3, M=6):\n",
    "    \"\"\"\n",
    "    Plot NxM array of plots\n",
    "    \"\"\"\n",
    "    \n",
    "    assert(data['Y'].shape[0] >= N*M)\n",
    "\n",
    "    fig, axs = plt.subplots(N, M, figsize=(12, 6))\n",
    "    fig.tight_layout()\n",
    "    col_map = plt.get_cmap('Greys')\n",
    "\n",
    "    for i in range(N):\n",
    "        for j in range(M):\n",
    "            k = i*N+j\n",
    "            \n",
    "            img_array = data['Y'][k]\n",
    "            assert((len(img_array.shape) == 3) and img_array.shape[2] == 1) ## (D, D, C=1)\n",
    "            axs[i][j].title.set_text(\"%.2f %.2f\" % (data['A'][k,0], data['A'][k,1]))\n",
    "            last_im = axs[i][j].imshow(img_array[...,0], cmap=col_map, origin='lower')\n",
    "\n",
    "    # https://stackoverflow.com/questions/13784201/matplotlib-2-subplots-1-colorbar\n",
    "    fig.subplots_adjust(right=0.8)\n",
    "    cbar_ax = fig.add_axes([0.85, 0.15, 0.05, 0.7])\n",
    "    _ = fig.colorbar(last_im, cax=cbar_ax)"
   ]
  },
  {
   "cell_type": "code",
   "execution_count": null,
   "metadata": {},
   "outputs": [],
   "source": [
    "def test_grid():\n",
    "    \n",
    "    a_large_spaced = np.linspace(-1., 1., 5)\n",
    "    a_small_spaced = np.linspace(-1., 1., 50)\n",
    "    \n",
    "    for a1 in a_large_spaced:\n",
    "        for a2 in a_small_spaced:\n",
    "        \n",
    "    data = gen_grid_dataset(a_space, a_space)\n",
    "    plt.scatter(data['A'][:,0], data['A'][:,1], 1)\n",
    "    visualize(data, 5, 5)\n",
    "    \n",
    "test_linspace()"
   ]
  },
  {
   "cell_type": "markdown",
   "metadata": {},
   "source": [
    "## Generate 25 datapoints, to check the result visually"
   ]
  },
  {
   "cell_type": "code",
   "execution_count": 61,
   "metadata": {},
   "outputs": [
    {
     "name": "stdout",
     "output_type": "stream",
     "text": [
      "Generating 25 datapoints ... (approx 0.875000 sec)\n",
      "Generated 25 data points. Actual time: 0.8s (0.031756 sec/datapoint)\n"
     ]
    },
    {
     "data": {
      "image/png": "[encoded data removed]",
      "text/plain": [
       "<Figure size 432x288 with 1 Axes>"
      ]
     },
     "metadata": {
      "needs_background": "light"
     },
     "output_type": "display_data"
    },
    {
     "data": {
      "image/png": "[encoded data removed]",
      "text/plain": [
       "<Figure size 864x432 with 26 Axes>"
      ]
     },
     "metadata": {
      "needs_background": "light"
     },
     "output_type": "display_data"
    }
   ],
   "source": [
    "def test_linspace():\n",
    "    a_space = np.linspace(-1., 1., 5)\n",
    "    data = gen_data2(a_space, a_space)\n",
    "    plt.scatter(data['A'][:,0], data['A'][:,1], 1)\n",
    "    visualize(data, 5, 5)\n",
    "    \n",
    "test_linspace()"
   ]
  },
  {
   "cell_type": "code",
   "execution_count": null,
   "metadata": {},
   "outputs": [],
   "source": []
  },
  {
   "cell_type": "markdown",
   "metadata": {},
   "source": [
    "## Generate 40k datapoints and save dataset in 'dataset-linspace-40k.pickle'"
   ]
  },
  {
   "cell_type": "code",
   "execution_count": 64,
   "metadata": {},
   "outputs": [
    {
     "name": "stdout",
     "output_type": "stream",
     "text": [
      "Generating 40000 datapoints ... (approx 1400.000000 sec)\n",
      "Generated 40000 data points. Actual time: 1235.2s (0.030879 sec/datapoint)\n"
     ]
    }
   ],
   "source": [
    "a_space = np.linspace(-1., 1., 200)\n",
    "data = gen_data2(a_space, a_space)"
   ]
  },
  {
   "cell_type": "code",
   "execution_count": 65,
   "metadata": {},
   "outputs": [
    {
     "name": "stdout",
     "output_type": "stream",
     "text": [
      "Dataset saved in dataset-linspace-40k.pickle\n"
     ]
    }
   ],
   "source": [
    "save_dataset(data, 'dataset-linspace-40k.pickle')"
   ]
  },
  {
   "cell_type": "code",
   "execution_count": 66,
   "metadata": {},
   "outputs": [],
   "source": [
    "data = load_dataset('dataset-linspace-40k.pickle')"
   ]
  },
  {
   "cell_type": "code",
   "execution_count": 67,
   "metadata": {},
   "outputs": [
    {
     "data": {
      "image/png": "[encoded data removed]",
      "text/plain": [
       "<Figure size 864x432 with 19 Axes>"
      ]
     },
     "metadata": {
      "needs_background": "light"
     },
     "output_type": "display_data"
    }
   ],
   "source": [
    "visualize(data) # Note: little visual changes"
   ]
  },
  {
   "cell_type": "code",
   "execution_count": null,
   "metadata": {},
   "outputs": [],
   "source": []
  }
 ],
 "metadata": {
  "accelerator": "GPU",
  "colab": {
   "include_colab_link": true,
   "name": "robot-arm-vae2.ipynb",
   "provenance": []
  },
  "kernelspec": {
   "display_name": "Python 3",
   "language": "python",
   "name": "python3"
  },
  "language_info": {
   "codemirror_mode": {
    "name": "ipython",
    "version": 3
   },
   "file_extension": ".py",
   "mimetype": "text/x-python",
   "name": "python",
   "nbconvert_exporter": "python",
   "pygments_lexer": "ipython3",
   "version": "3.6.12"
  },
  "widgets": {
   "application/vnd.jupyter.widget-state+json": {
    "0186ee6939784a43b6bd6960fd7e7bae": {
     "model_module": "@jupyter-widgets/base",
     "model_name": "LayoutModel",
     "state": {
      "_model_module": "@jupyter-widgets/base",
      "_model_module_version": "1.2.0",
      "_model_name": "LayoutModel",
      "_view_count": null,
      "_view_module": "@jupyter-widgets/base",
      "_view_module_version": "1.2.0",
      "_view_name": "LayoutView",
      "align_content": null,
      "align_items": null,
      "align_self": null,
      "border": null,
      "bottom": null,
      "display": null,
      "flex": null,
      "flex_flow": null,
      "grid_area": null,
      "grid_auto_columns": null,
      "grid_auto_flow": null,
      "grid_auto_rows": null,
      "grid_column": null,
      "grid_gap": null,
      "grid_row": null,
      "grid_template_areas": null,
      "grid_template_columns": null,
      "grid_template_rows": null,
      "height": null,
      "justify_content": null,
      "justify_items": null,
      "left": null,
      "margin": null,
      "max_height": null,
      "max_width": null,
      "min_height": null,
      "min_width": null,
      "object_fit": null,
      "object_position": null,
      "order": null,
      "overflow": null,
      "overflow_x": null,
      "overflow_y": null,
      "padding": null,
      "right": null,
      "top": null,
      "visibility": null,
      "width": null
     }
    },
    "3786fc3b301341ffbb5c3ed0415cd42e": {
     "model_module": "@jupyter-widgets/controls",
     "model_name": "SliderStyleModel",
     "state": {
      "_model_module": "@jupyter-widgets/controls",
      "_model_module_version": "1.5.0",
      "_model_name": "SliderStyleModel",
      "_view_count": null,
      "_view_module": "@jupyter-widgets/base",
      "_view_module_version": "1.2.0",
      "_view_name": "StyleView",
      "description_width": "",
      "handle_color": null
     }
    },
    "747ee18e89164f048943d4c5c1721150": {
     "model_module": "@jupyter-widgets/controls",
     "model_name": "FloatSliderModel",
     "state": {
      "_dom_classes": [],
      "_model_module": "@jupyter-widgets/controls",
      "_model_module_version": "1.5.0",
      "_model_name": "FloatSliderModel",
      "_view_count": null,
      "_view_module": "@jupyter-widgets/controls",
      "_view_module_version": "1.5.0",
      "_view_name": "FloatSliderView",
      "continuous_update": true,
      "description": "",
      "description_tooltip": null,
      "disabled": false,
      "layout": "IPY_MODEL_b172ab278c5f4a1687a17a9dd86bc334",
      "max": 5,
      "min": -5,
      "orientation": "horizontal",
      "readout": true,
      "readout_format": ".2f",
      "step": 0.01,
      "style": "IPY_MODEL_3786fc3b301341ffbb5c3ed0415cd42e",
      "value": -0.44
     }
    },
    "a58db579b39a4a0ebcfb534c2bc0dc2f": {
     "model_module": "@jupyter-widgets/output",
     "model_name": "OutputModel",
     "state": {
      "_dom_classes": [],
      "_model_module": "@jupyter-widgets/output",
      "_model_module_version": "1.0.0",
      "_model_name": "OutputModel",
      "_view_count": null,
      "_view_module": "@jupyter-widgets/output",
      "_view_module_version": "1.0.0",
      "_view_name": "OutputView",
      "layout": "IPY_MODEL_0186ee6939784a43b6bd6960fd7e7bae",
      "msg_id": "",
      "outputs": [
       {
        "image/png": "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\n",
        "metadata": {
         "needs_background": "light",
         "tags": []
        },
        "output_type": "display_data",
        "text/plain": "<Figure size 432x288 with 1 Axes>"
       }
      ]
     }
    },
    "a941e085f5f44c23bb5850943b0cbe70": {
     "model_module": "@jupyter-widgets/base",
     "model_name": "LayoutModel",
     "state": {
      "_model_module": "@jupyter-widgets/base",
      "_model_module_version": "1.2.0",
      "_model_name": "LayoutModel",
      "_view_count": null,
      "_view_module": "@jupyter-widgets/base",
      "_view_module_version": "1.2.0",
      "_view_name": "LayoutView",
      "align_content": null,
      "align_items": null,
      "align_self": null,
      "border": null,
      "bottom": null,
      "display": null,
      "flex": null,
      "flex_flow": null,
      "grid_area": null,
      "grid_auto_columns": null,
      "grid_auto_flow": null,
      "grid_auto_rows": null,
      "grid_column": null,
      "grid_gap": null,
      "grid_row": null,
      "grid_template_areas": null,
      "grid_template_columns": null,
      "grid_template_rows": null,
      "height": null,
      "justify_content": null,
      "justify_items": null,
      "left": null,
      "margin": null,
      "max_height": null,
      "max_width": null,
      "min_height": null,
      "min_width": null,
      "object_fit": null,
      "object_position": null,
      "order": null,
      "overflow": null,
      "overflow_x": null,
      "overflow_y": null,
      "padding": null,
      "right": null,
      "top": null,
      "visibility": null,
      "width": null
     }
    },
    "b172ab278c5f4a1687a17a9dd86bc334": {
     "model_module": "@jupyter-widgets/base",
     "model_name": "LayoutModel",
     "state": {
      "_model_module": "@jupyter-widgets/base",
      "_model_module_version": "1.2.0",
      "_model_name": "LayoutModel",
      "_view_count": null,
      "_view_module": "@jupyter-widgets/base",
      "_view_module_version": "1.2.0",
      "_view_name": "LayoutView",
      "align_content": null,
      "align_items": null,
      "align_self": null,
      "border": null,
      "bottom": null,
      "display": null,
      "flex": null,
      "flex_flow": null,
      "grid_area": null,
      "grid_auto_columns": null,
      "grid_auto_flow": null,
      "grid_auto_rows": null,
      "grid_column": null,
      "grid_gap": null,
      "grid_row": null,
      "grid_template_areas": null,
      "grid_template_columns": null,
      "grid_template_rows": null,
      "height": null,
      "justify_content": null,
      "justify_items": null,
      "left": null,
      "margin": null,
      "max_height": null,
      "max_width": null,
      "min_height": null,
      "min_width": null,
      "object_fit": null,
      "object_position": null,
      "order": null,
      "overflow": null,
      "overflow_x": null,
      "overflow_y": null,
      "padding": null,
      "right": null,
      "top": null,
      "visibility": null,
      "width": null
     }
    },
    "e457abaabbf34f31adf09ab1fb38e46f": {
     "model_module": "@jupyter-widgets/controls",
     "model_name": "FloatSliderModel",
     "state": {
      "_dom_classes": [],
      "_model_module": "@jupyter-widgets/controls",
      "_model_module_version": "1.5.0",
      "_model_name": "FloatSliderModel",
      "_view_count": null,
      "_view_module": "@jupyter-widgets/controls",
      "_view_module_version": "1.5.0",
      "_view_name": "FloatSliderView",
      "continuous_update": true,
      "description": "",
      "description_tooltip": null,
      "disabled": false,
      "layout": "IPY_MODEL_a941e085f5f44c23bb5850943b0cbe70",
      "max": 25,
      "min": -25,
      "orientation": "horizontal",
      "readout": true,
      "readout_format": ".2f",
      "step": 0.01,
      "style": "IPY_MODEL_edec8923a7de4a11924fdcdd3e18c51b",
      "value": 9.26
     }
    },
    "edec8923a7de4a11924fdcdd3e18c51b": {
     "model_module": "@jupyter-widgets/controls",
     "model_name": "SliderStyleModel",
     "state": {
      "_model_module": "@jupyter-widgets/controls",
      "_model_module_version": "1.5.0",
      "_model_name": "SliderStyleModel",
      "_view_count": null,
      "_view_module": "@jupyter-widgets/base",
      "_view_module_version": "1.2.0",
      "_view_name": "StyleView",
      "description_width": "",
      "handle_color": null
     }
    }
   }
  }
 },
 "nbformat": 4,
 "nbformat_minor": 4
}
