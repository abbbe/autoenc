{
 "cells": [
  {
   "cell_type": "markdown",
   "id": "portable-addition",
   "metadata": {},
   "source": [
    "This folder contains code and data related to experiments of applying autoencoders to images of robotic arm manipulator.\n",
    "Goal is to learn translation between encode arm state in latent variables ..."
   ]
  },
  {
   "cell_type": "code",
   "execution_count": null,
   "id": "seeing-bulletin",
   "metadata": {},
   "outputs": [],
   "source": [
    "!pip install matplotlib gym pygame scikit-image"
   ]
  }
 ],
 "metadata": {
  "kernelspec": {
   "display_name": "Python 3",
   "language": "python",
   "name": "python3"
  },
  "language_info": {
   "codemirror_mode": {
    "name": "ipython",
    "version": 3
   },
   "file_extension": ".py",
   "mimetype": "text/x-python",
   "name": "python",
   "nbconvert_exporter": "python",
   "pygments_lexer": "ipython3",
   "version": "3.6.12"
  }
 },
 "nbformat": 4,
 "nbformat_minor": 5
}
