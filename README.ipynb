{
 "cells": [
  {
   "cell_type": "markdown",
   "id": "portable-addition",
   "metadata": {},
   "source": [
    "This folder contains code and data related to experiments of applying autoencoders to images of robotic arm manipulator.\n",
    "Goal is to learn translation between encode arm state in latent variables ..."
   ]
  },
  {
   "cell_type": "code",
   "execution_count": null,
   "id": "seeing-bulletin",
   "metadata": {},
   "outputs": [],
   "source": [
    "!pip install matplotlib gym pygame scikit-image"
   ]
  },
  {
   "cell_type": "code",
   "execution_count": null,
   "metadata": {},
   "outputs": [],
   "source": [
    "DARLA: Improving Zero-Shot Transfer in Reinforcement Learning\n",
    "https://arxiv.org/pdf/1707.08475.pdf\n",
    "\n",
    "Understanding disentangling in β-VAE\n",
    "https://doc-0g-a0-apps-viewer.googleusercontent.com/viewer/secure/pdf/3nb9bdfcv3e2h2k1cmql0ee9cvc5lole/v6trus4v29er88fnad0bknj635giqc9m/1614891300000/drive/*/ACFrOgCMiJXsB0wMMjZ87tUdRbhtL_mbAoklz3ag4A7vjnJwOFZnG9OLkzx8fgwt7z1mrDlLONOvI2pPgZ49Kia2gi9smgfw0W16joxQEJ1gqQ7iz0CnFMG-7ZzgefOy2aUgbNfZuDKIOt97FDsj?print=true&nonce=dgj7i8u3d7o8o&user=*&hash=g2ft5e17i719fignkjgu92tpjoav024m\n",
    "\n",
    "Simple and Effective VAE training with σ-VAE in TensorFlow\n",
    "https://github.com/orybkin/sigma-vae-tensorflow\n",
    "\n",
    "β-VAE: LEARNING BASIC VISUAL CONCEPTS WITH A CONSTRAINED VARIATIONAL FRAMEWORK\n",
    "https://openreview.net/pdf?id=Sy2fzU9gl\n",
    "\n",
    "XXXFACTORIALXXX\n",
    "https://arxiv.org/pdf/1802.05983.pdf\n",
    "\n",
    "https://www.tensorflow.org/tutorials/generative/cvae\n",
    "\n",
    "YAPONETS\n",
    "https://github.com/miyosuda/disentangled_vae"
   ]
  }
 ],
 "metadata": {
  "kernelspec": {
   "display_name": "Python 3",
   "language": "python",
   "name": "python3"
  },
  "language_info": {
   "codemirror_mode": {
    "name": "ipython",
    "version": 3
   },
   "file_extension": ".py",
   "mimetype": "text/x-python",
   "name": "python",
   "nbconvert_exporter": "python",
   "pygments_lexer": "ipython3",
   "version": "3.6.12"
  }
 },
 "nbformat": 4,
 "nbformat_minor": 5
}